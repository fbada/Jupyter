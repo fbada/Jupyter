{
 "cells": [
  {
   "cell_type": "code",
   "execution_count": null,
   "id": "23b1790f-0a79-444a-8e91-a4ee7671e183",
   "metadata": {},
   "outputs": [],
   "source": [
    "Here are the steps to execute the main() method in your notebook:\n",
    "\n",
    "Select the cell containing the import statements:\n",
    "\n",
    "Click on the cell with the import statements (from car_rental import CarRental, Customer).\n",
    "Press Shift + Enter to execute the cell.\n",
    "Select the cell containing the main() function definition:\n",
    "\n",
    "Click on the cell with the main() function definition.\n",
    "Press Shift + Enter to execute the cell.\n",
    "Select the cell that calls the main() function:\n",
    "\n",
    "Click on the cell that contains if __name__ == \"__main__\": main().\n",
    "Press Shift + Enter to execute the cell.\n",
    "After pressing Shift + Enter on the third cell, the application should start running, and you will see the menu options displayed in the output.\n",
    "\n",
    "Here is a summary of the shortcuts:\n",
    "\n",
    "Shift + Enter: Execute the current cell and move to the next cell.\n",
    "Ctrl + Enter: Execute the current cell and remain in the same cell."
   ]
  },
  {
   "cell_type": "markdown",
   "id": "0104e7ca",
   "metadata": {},
   "source": []
  },
  {
   "cell_type": "code",
   "execution_count": null,
   "id": "994716fa-73af-4f40-8417-2b57c0e6a512",
   "metadata": {},
   "outputs": [],
   "source": [
    "# main.ipynb - Cell 1\n",
    "\n",
    "from car_rental import CarRental, Customer\n"
   ]
  },
  {
   "cell_type": "code",
   "execution_count": null,
   "id": "711d88d2-7a56-4cb2-b1fd-90aa94f81480",
   "metadata": {},
   "outputs": [],
   "source": [
    "# main.ipynb - Cell 2\n",
    "\n",
    "def main():\n",
    "    rental = CarRental(10)  # Initial stock of 10 cars\n",
    "    customer = Customer()\n",
    "\n",
    "    while True:\n",
    "        print(\"\"\"\n",
    "        ====== Car Rental Shop ======\n",
    "        1. Display available cars\n",
    "        2. Rent a car on hourly basis $5\n",
    "        3. Rent a car on daily basis $20\n",
    "        4. Rent a car on weekly basis $60\n",
    "        5. Return a car\n",
    "        6. Exit\n",
    "        \"\"\")\n",
    "        \n",
    "        choice = input(\"Enter choice: \")\n",
    "\n",
    "        try:\n",
    "            choice = int(choice)\n",
    "        except ValueError:\n",
    "            print(\"Please enter a valid number\")\n",
    "            continue\n",
    "\n",
    "        if choice == 1:\n",
    "            rental.display_cars()\n",
    "\n",
    "        elif choice == 2:\n",
    "            customer.request_car()\n",
    "            rentalTime = rental.rent_car_hourly(customer.cars)\n",
    "            if rentalTime:\n",
    "                customer.rentalTime = rentalTime\n",
    "                customer.rentalBasis = 1\n",
    "\n",
    "        elif choice == 3:\n",
    "            customer.request_car()\n",
    "            rentalTime = rental.rent_car_daily(customer.cars)\n",
    "            if rentalTime:\n",
    "                customer.rentalTime = rentalTime\n",
    "                customer.rentalBasis = 2\n",
    "\n",
    "        elif choice == 4:\n",
    "            customer.request_car()\n",
    "            rentalTime = rental.rent_car_weekly(customer.cars)\n",
    "            if rentalTime:\n",
    "                customer.rentalTime = rentalTime\n",
    "                customer.rentalBasis = 3\n",
    "\n",
    "        elif choice == 5:\n",
    "            request = customer.return_car()\n",
    "            rental.return_car(request)\n",
    "\n",
    "        elif choice == 6:\n",
    "            break\n",
    "\n",
    "        else:\n",
    "            print(\"Invalid input. Please enter a number between 1 and 6.\")\n"
   ]
  },
  {
   "cell_type": "code",
   "execution_count": null,
   "id": "45bb6a9e-f481-4997-b7b0-15e38c185e43",
   "metadata": {},
   "outputs": [],
   "source": [
    "# main.ipynb - Cell 3\n",
    "\n",
    "if __name__ == \"__main__\":\n",
    "    main()\n"
   ]
  },
  {
   "cell_type": "code",
   "execution_count": null,
   "id": "6e9502e5-994b-4e11-9842-313dcf668456",
   "metadata": {},
   "outputs": [],
   "source": []
  }
 ],
 "metadata": {
  "kernelspec": {
   "display_name": "Python 3 (ipykernel)",
   "language": "python",
   "name": "python3"
  },
  "language_info": {
   "codemirror_mode": {
    "name": "ipython",
    "version": 3
   },
   "file_extension": ".py",
   "mimetype": "text/x-python",
   "name": "python",
   "nbconvert_exporter": "python",
   "pygments_lexer": "ipython3",
   "version": "3.11.8"
  }
 },
 "nbformat": 4,
 "nbformat_minor": 5
}
