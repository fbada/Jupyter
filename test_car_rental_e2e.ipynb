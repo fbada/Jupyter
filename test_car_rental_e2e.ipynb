{
 "cells": [
  {
   "cell_type": "code",
   "execution_count": 1,
   "id": "c67978e8-f862-476e-9214-8b3b49415360",
   "metadata": {},
   "outputs": [],
   "source": [
    "# Cell 1: Import necessary classes from the car_rental module\n",
    "from car_rental import CarRental, Customer\n",
    "import datetime\n"
   ]
  },
  {
   "cell_type": "markdown",
   "id": "96a84c7c",
   "metadata": {},
   "source": []
  },
  {
   "cell_type": "code",
   "execution_count": 3,
   "id": "e6ecc4ed-4c71-4a61-b5fc-57ffa5c4089a",
   "metadata": {},
   "outputs": [
    {
     "ename": "KeyboardInterrupt",
     "evalue": "",
     "output_type": "error",
     "traceback": [
      "\u001b[0;31m---------------------------------------------------------------------------\u001b[0m",
      "\u001b[0;31mKeyboardInterrupt\u001b[0m                         Traceback (most recent call last)",
      "Cell \u001b[0;32mIn[3], line 1\u001b[0m\n\u001b[0;32m----> 1\u001b[0m \u001b[38;5;28;01mdef\u001b[39;00m \u001b[38;5;21mtest_display_available_cars\u001b[39m(rental):\n\u001b[1;32m      2\u001b[0m     \u001b[38;5;28mprint\u001b[39m(\u001b[38;5;124m\"\u001b[39m\u001b[38;5;124mTesting display available cars...\u001b[39m\u001b[38;5;124m\"\u001b[39m)\n\u001b[1;32m      3\u001b[0m     rental\u001b[38;5;241m.\u001b[39mdisplay_cars()\n",
      "Cell \u001b[0;32mIn[3], line 1\u001b[0m\n\u001b[0;32m----> 1\u001b[0m \u001b[38;5;28;01mdef\u001b[39;00m \u001b[38;5;21mtest_display_available_cars\u001b[39m(rental):\n\u001b[1;32m      2\u001b[0m     \u001b[38;5;28mprint\u001b[39m(\u001b[38;5;124m\"\u001b[39m\u001b[38;5;124mTesting display available cars...\u001b[39m\u001b[38;5;124m\"\u001b[39m)\n\u001b[1;32m      3\u001b[0m     rental\u001b[38;5;241m.\u001b[39mdisplay_cars()\n",
      "File \u001b[0;32m_pydevd_bundle/pydevd_cython.pyx:1457\u001b[0m, in \u001b[0;36m_pydevd_bundle.pydevd_cython.SafeCallWrapper.__call__\u001b[0;34m()\u001b[0m\n",
      "File \u001b[0;32m_pydevd_bundle/pydevd_cython.pyx:701\u001b[0m, in \u001b[0;36m_pydevd_bundle.pydevd_cython.PyDBFrame.trace_dispatch\u001b[0;34m()\u001b[0m\n",
      "File \u001b[0;32m_pydevd_bundle/pydevd_cython.pyx:1152\u001b[0m, in \u001b[0;36m_pydevd_bundle.pydevd_cython.PyDBFrame.trace_dispatch\u001b[0;34m()\u001b[0m\n",
      "File \u001b[0;32m_pydevd_bundle/pydevd_cython.pyx:1135\u001b[0m, in \u001b[0;36m_pydevd_bundle.pydevd_cython.PyDBFrame.trace_dispatch\u001b[0;34m()\u001b[0m\n",
      "File \u001b[0;32m_pydevd_bundle/pydevd_cython.pyx:312\u001b[0m, in \u001b[0;36m_pydevd_bundle.pydevd_cython.PyDBFrame.do_wait_suspend\u001b[0;34m()\u001b[0m\n",
      "File \u001b[0;32m~/.pyenv/versions/3.11.8/lib/python3.11/site-packages/debugpy/_vendored/pydevd/pydevd.py:2070\u001b[0m, in \u001b[0;36mPyDB.do_wait_suspend\u001b[0;34m(self, thread, frame, event, arg, exception_type)\u001b[0m\n\u001b[1;32m   2067\u001b[0m             from_this_thread\u001b[38;5;241m.\u001b[39mappend(frame_custom_thread_id)\n\u001b[1;32m   2069\u001b[0m     \u001b[38;5;28;01mwith\u001b[39;00m \u001b[38;5;28mself\u001b[39m\u001b[38;5;241m.\u001b[39m_threads_suspended_single_notification\u001b[38;5;241m.\u001b[39mnotify_thread_suspended(thread_id, thread, stop_reason):\n\u001b[0;32m-> 2070\u001b[0m         keep_suspended \u001b[38;5;241m=\u001b[39m \u001b[38;5;28;43mself\u001b[39;49m\u001b[38;5;241;43m.\u001b[39;49m\u001b[43m_do_wait_suspend\u001b[49m\u001b[43m(\u001b[49m\u001b[43mthread\u001b[49m\u001b[43m,\u001b[49m\u001b[43m \u001b[49m\u001b[43mframe\u001b[49m\u001b[43m,\u001b[49m\u001b[43m \u001b[49m\u001b[43mevent\u001b[49m\u001b[43m,\u001b[49m\u001b[43m \u001b[49m\u001b[43marg\u001b[49m\u001b[43m,\u001b[49m\u001b[43m \u001b[49m\u001b[43msuspend_type\u001b[49m\u001b[43m,\u001b[49m\u001b[43m \u001b[49m\u001b[43mfrom_this_thread\u001b[49m\u001b[43m,\u001b[49m\u001b[43m \u001b[49m\u001b[43mframes_tracker\u001b[49m\u001b[43m)\u001b[49m\n\u001b[1;32m   2072\u001b[0m frames_list \u001b[38;5;241m=\u001b[39m \u001b[38;5;28;01mNone\u001b[39;00m\n\u001b[1;32m   2074\u001b[0m \u001b[38;5;28;01mif\u001b[39;00m keep_suspended:\n\u001b[1;32m   2075\u001b[0m     \u001b[38;5;66;03m# This means that we should pause again after a set next statement.\u001b[39;00m\n",
      "File \u001b[0;32m~/.pyenv/versions/3.11.8/lib/python3.11/site-packages/debugpy/_vendored/pydevd/pydevd.py:2106\u001b[0m, in \u001b[0;36mPyDB._do_wait_suspend\u001b[0;34m(self, thread, frame, event, arg, suspend_type, from_this_thread, frames_tracker)\u001b[0m\n\u001b[1;32m   2103\u001b[0m         \u001b[38;5;28mself\u001b[39m\u001b[38;5;241m.\u001b[39m_call_input_hook()\n\u001b[1;32m   2105\u001b[0m     \u001b[38;5;28mself\u001b[39m\u001b[38;5;241m.\u001b[39mprocess_internal_commands()\n\u001b[0;32m-> 2106\u001b[0m     time\u001b[38;5;241m.\u001b[39msleep(\u001b[38;5;241m0.01\u001b[39m)\n\u001b[1;32m   2108\u001b[0m \u001b[38;5;28mself\u001b[39m\u001b[38;5;241m.\u001b[39mcancel_async_evaluation(get_current_thread_id(thread), \u001b[38;5;28mstr\u001b[39m(\u001b[38;5;28mid\u001b[39m(frame)))\n\u001b[1;32m   2110\u001b[0m \u001b[38;5;66;03m# process any stepping instructions\u001b[39;00m\n",
      "\u001b[0;31mKeyboardInterrupt\u001b[0m: "
     ]
    }
   ],
   "source": [
    "def test_display_available_cars(rental):\n",
    "    print(\"Testing display available cars...\")\n",
    "    rental.display_cars()\n",
    "    assert rental.stock == 10\n",
    "\n",
    "def test_rent_car_hourly(rental, customer):\n",
    "    print(\"Testing rent car hourly...\")\n",
    "    customer.request_car = lambda: 2  # Mock user input to rent 2 cars\n",
    "    rental_time = rental.rent_car_hourly(customer.request_car())\n",
    "    customer.rentalTime = rental_time\n",
    "    customer.rentalBasis = 1\n",
    "    customer.cars = 2\n",
    "    assert rental.stock == 8\n",
    "\n",
    "def test_rent_car_daily(rental, customer):\n",
    "    print(\"Testing rent car daily...\")\n",
    "    customer.request_car = lambda: 1  # Mock user input to rent 1 car\n",
    "    rental_time = rental.rent_car_daily(customer.request_car())\n",
    "    customer.rentalTime = rental_time\n",
    "    customer.rentalBasis = 2\n",
    "    customer.cars = 1\n",
    "    assert rental.stock == 9\n",
    "\n",
    "def test_rent_car_weekly(rental, customer):\n",
    "    print(\"Testing rent car weekly...\")\n",
    "    customer.request_car = lambda: 1  # Mock user input to rent 1 car\n",
    "    rental_time = rental.rent_car_weekly(customer.request_car())\n",
    "    customer.rentalTime = rental_time\n",
    "    customer.rentalBasis = 3\n",
    "    customer.cars = 1\n",
    "    assert rental.stock == 9  # There should be 9 cars left after renting 1 weekly\n",
    "\n",
    "def test_return_car(rental, customer):\n",
    "    print(\"Testing return car...\")\n",
    "    # Mock rental time to be 4 hours ago for hourly, 1 day ago for daily, and 1 week ago for weekly\n",
    "    if customer.rentalBasis == 1:\n",
    "        customer.rentalTime = datetime.datetime.now() - datetime.timedelta(hours=4)\n",
    "    elif customer.rentalBasis == 2:\n",
    "        customer.rentalTime = datetime.datetime.now() - datetime.timedelta(days=1)\n",
    "    elif customer.rentalBasis == 3:\n",
    "        customer.rentalTime = datetime.datetime.now() - datetime.timedelta(weeks=1)\n",
    "    request = (customer.rentalTime, customer.rentalBasis, customer.cars)\n",
    "    rental.return_car(request)\n",
    "    assert rental.stock == 10\n",
    "\n",
    "def run_tests():\n",
    "    rental = CarRental(10)  # Initialize CarRental with 10 cars in stock\n",
    "    customer = Customer()   # Initialize Customer object\n",
    "    \n",
    "    test_display_available_cars(rental)\n",
    "    \n",
    "    # Hourly rental test\n",
    "    test_rent_car_hourly(rental, customer)\n",
    "    test_return_car(rental, customer)\n",
    "    \n",
    "    # Reset customer and rental for daily rental test\n",
    "    customer = Customer()\n",
    "    rental = CarRental(10)\n",
    "    \n",
    "    test_rent_car_daily(rental, customer)\n",
    "    test_return_car(rental, customer)\n",
    "    \n",
    "    # Reset customer and rental for weekly rental test\n",
    "    customer = Customer()\n",
    "    rental = CarRental(10)\n",
    "    \n",
    "    test_rent_car_weekly(rental, customer)\n",
    "    test_return_car(rental, customer)\n",
    "    \n",
    "    print(\"All tests passed!\")\n"
   ]
  },
  {
   "cell_type": "code",
   "execution_count": 22,
   "id": "50c03e21-5389-455b-b4cd-80e89b7f716e",
   "metadata": {},
   "outputs": [
    {
     "name": "stdout",
     "output_type": "stream",
     "text": [
      "Testing display available cars...\n",
      "10 cars available to rent\n",
      "Testing rent car hourly...\n",
      "Rented 2 car(s) on hourly basis at 5 hours\n",
      "Testing return car...\n",
      "Thanks for returning your car(s). Your bill is $40\n",
      "Testing rent car daily...\n",
      "Rented 1 car(s) on daily basis at 2024-07-11\n",
      "Testing return car...\n",
      "Thanks for returning your car(s). Your bill is $20\n",
      "Testing rent car weekly...\n",
      "Rented 1 car(s) on weekly basis at 2024-07-11\n",
      "Testing return car...\n",
      "Thanks for returning your car(s). Your bill is $60\n",
      "All tests passed!\n"
     ]
    }
   ],
   "source": [
    "# Cell 3: Run the tests\n",
    "run_tests()"
   ]
  },
  {
   "cell_type": "code",
   "execution_count": null,
   "id": "85718ef5-9444-49fb-a346-9b70809f16e6",
   "metadata": {},
   "outputs": [],
   "source": []
  }
 ],
 "metadata": {
  "kernelspec": {
   "display_name": "Python 3 (ipykernel)",
   "language": "python",
   "name": "python3"
  },
  "language_info": {
   "codemirror_mode": {
    "name": "ipython",
    "version": 3
   },
   "file_extension": ".py",
   "mimetype": "text/x-python",
   "name": "python",
   "nbconvert_exporter": "python",
   "pygments_lexer": "ipython3",
   "version": "3.12.4"
  }
 },
 "nbformat": 4,
 "nbformat_minor": 5
}
